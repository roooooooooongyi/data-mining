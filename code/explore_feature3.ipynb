{
 "cells": [
  {
   "cell_type": "code",
   "execution_count": 3,
   "metadata": {},
   "outputs": [
    {
     "name": "stderr",
     "output_type": "stream",
     "text": [
      "/home/wrj/anaconda3/lib/python3.6/site-packages/ipykernel_launcher.py:15: FutureWarning: Sorting because non-concatenation axis is not aligned. A future version\n",
      "of pandas will change to not sort by default.\n",
      "\n",
      "To accept the future behavior, pass 'sort=False'.\n",
      "\n",
      "To retain the current behavior and silence the warning, pass 'sort=True'.\n",
      "\n",
      "  from ipykernel import kernelapp as app\n"
     ]
    }
   ],
   "source": [
    "import numpy as np\n",
    "import pandas as pd\n",
    "import math\n",
    "import seaborn as sns\n",
    "import matplotlib as mpl\n",
    "import matplotlib.pyplot as plt\n",
    "from sklearn import preprocessing\n",
    "# from src2.model import *\n",
    "pd.options.display.max_columns = 100\n",
    "\n",
    "\n",
    "train = pd.read_csv('../data/train_dataset.csv')\n",
    "test = pd.read_csv('../data/test_dataset.csv')\n",
    "target = train['信用分']\n",
    "data = pd.concat([train,test],axis=0,ignore_index=True)\n",
    "data0 = data.copy()\n",
    "data['信用分'] = data['信用分'].fillna(-1)\n",
    "\n",
    "\n",
    "\n",
    "def feature_count(data, features):\n",
    "    if len(set(data[features])) == len(data[features]):\n",
    "        print('equal feature')\n",
    "        return data\n",
    "    new_feature = 'count'\n",
    "    new_feature += '_' + features\n",
    "    temp = data.groupby(features).size().reset_index().rename(columns={0: new_feature})\n",
    "    data = data.merge(temp, 'left', on=features)\n",
    "    return data\n",
    "\n",
    "def endnumber(x):\n",
    "    x_2_str = str(x)\n",
    "    res = x_2_str.split(\".\")\n",
    "    return int(res[-1])\n",
    "\n",
    "def freq_coding(x, countdict):\n",
    "    if (countdict[x] > 0) and (countdict[x] <= 50):\n",
    "        return 0\n",
    "    elif (countdict[x] > 50) and (countdict[x] <= 300):\n",
    "        return 1\n",
    "    else:\n",
    "        return 2\n",
    "\n",
    "def omit_value(x):\n",
    "    if x <= 500:\n",
    "        return 0\n",
    "    elif (x>500) and (x<1000):\n",
    "        return 1\n",
    "    else:\n",
    "        return 2\n",
    "\n",
    "def standard(x):\n",
    "    return preprocessing.StandardScaler().fit_transform(x.values.reshape(-1,1))\n",
    "\n",
    "class Feature:\n",
    "    def __init__(self, data):\n",
    "        self.name = 'feature1'\n",
    "        self.data = data\n",
    "#         self.predictors = predictors\n",
    "    \n",
    "    def single_data_distribution(self):\n",
    "    # identity 3\n",
    "        self.data.loc[self.data['用户年龄'] == 0, '用户年龄'] = np.nan\n",
    "        #\n",
    "        self.data['month'] = self.data['用户网龄（月）'] // 12\n",
    "        #\n",
    "        self.data['year'] = self.data['用户网龄（月）'] % 12\n",
    "        \n",
    "    # business 2\n",
    "        self.data.loc[self.data['用户话费敏感度'] == 0, '用户话费敏感度'] = 1 # self.data['用户话费敏感度'].median()\n",
    "        # 充值路径\n",
    "        self.data['charge_type'] = 0\n",
    "        self.data.loc[(self.data['缴费用户最近一次缴费金额（元）'] % 10 == 0) & (self.data['缴费用户最近一次缴费金额（元）'] != 0), 'charge_type'] = 1\n",
    "\n",
    "    def single_feature_count(self):\n",
    "    # business 4\n",
    "        feature_count_list = ['缴费用户最近一次缴费金额（元）', '用户近6个月平均消费值（元）', '用户当月账户余额（元）', '用户账单当月总费用（元）']\n",
    "        for ff in feature_count_list:\n",
    "            self.data = feature_count(self.data, ff)\n",
    "            \n",
    "\n",
    "    def composite_business(self):\n",
    "    # business 4\n",
    "        # 各种比例 3\n",
    "        self.data['user_cost_delt'] = self.data['用户近6个月平均消费值（元）'] - self.data['用户账单当月总费用（元）']\n",
    "        # 过去5个月和当月的消费情况 2\n",
    "        self.data['last_five_fee'] = self.data['用户近6个月平均消费值（元）']*6 - self.data['用户账单当月总费用（元）']\n",
    "        self.data['now-five'] = self.data['用户账单当月总费用（元）'] - self.data['last_five_fee']/5\n",
    "        \n",
    "        # app 1\n",
    "        self.data['buy_rate'] = self.data['当月物流快递类应用使用次数'] / (self.data['当月网购类应用使用次数'] + 1)\n",
    "\n",
    "    \n",
    "    def drop_columns_na(self):\n",
    "        self.data.drop(columns=['是否大学生客户','是否黑名单客户','是否经常逛商场的人'], inplace=True)\n",
    "        self.data.dropna(inplace=True)\n",
    "        self.data.reset_index(drop=True, inplace=True)\n",
    "        \n",
    "    def save_data(self):\n",
    "        print(\"输出数据的尺寸:\", self.data.shape)\n",
    "        self.data.to_csv(\"../data/all_data_fea3.csv\", index=False, encoding='utf-8')"
   ]
  },
  {
   "cell_type": "code",
   "execution_count": 4,
   "metadata": {},
   "outputs": [
    {
     "name": "stdout",
     "output_type": "stream",
     "text": [
      "输出数据的尺寸: (99462, 38)\n"
     ]
    }
   ],
   "source": [
    "case = Feature(data)\n",
    "case.single_data_distribution()\n",
    "case.single_feature_count()\n",
    "case.composite_business()\n",
    "case.drop_columns_na()\n",
    "case.save_data()\n"
   ]
  },
  {
   "cell_type": "code",
   "execution_count": null,
   "metadata": {},
   "outputs": [],
   "source": []
  }
 ],
 "metadata": {
  "kernelspec": {
   "display_name": "Python 3",
   "language": "python",
   "name": "python3"
  },
  "language_info": {
   "codemirror_mode": {
    "name": "ipython",
    "version": 3
   },
   "file_extension": ".py",
   "mimetype": "text/x-python",
   "name": "python",
   "nbconvert_exporter": "python",
   "pygments_lexer": "ipython3",
   "version": "3.6.5"
  }
 },
 "nbformat": 4,
 "nbformat_minor": 2
}
