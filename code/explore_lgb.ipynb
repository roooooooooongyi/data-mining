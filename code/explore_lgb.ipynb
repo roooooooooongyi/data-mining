{
 "cells": [
  {
   "cell_type": "code",
   "execution_count": 1,
   "metadata": {},
   "outputs": [],
   "source": [
    "import pandas as pd\n",
    "import numpy as np\n",
    "import os\n",
    "import matplotlib as mpl\n",
    "import matplotlib.pyplot as plt\n",
    "import seaborn as sns\n",
    "pd.options.display.max_columns = 100\n",
    "import warnings\n",
    "warnings.filterwarnings(\"ignore\", category=DeprecationWarning)\n",
    "import xgboost as xgb\n",
    "from xgboost import plot_importance\n",
    "from sklearn.metrics import mean_absolute_error\n",
    "from sklearn.model_selection import train_test_split\n",
    "from scipy import stats\n",
    "# from funset import funcs\n",
    "import seaborn as sns\n",
    "import sys\n",
    "from sklearn import tree\n",
    "import lightgbm as lgb\n",
    "from sklearn.metrics import mean_absolute_error\n"
   ]
  },
  {
   "cell_type": "code",
   "execution_count": 45,
   "metadata": {},
   "outputs": [],
   "source": [
    "# 1. read data\n",
    "class model_lgb:\n",
    "    def __init__(self, path):\n",
    "        self.data = pd.read_csv(path)\n",
    "        self.predictors = [x for x in self.data.columns if x not in ['用户编码', '信用分']]\n",
    "        self.X_train_val, self.X_test, self.y_train_val, self.y_test = 0, 0, 0, 0\n",
    "        \n",
    "    def get_train_val(self):\n",
    "        self.X_train_val = self.data.loc[self.data['信用分'] != -1, self.predictors]\n",
    "        self.y_train_val = self.data.loc[self.data['信用分'] != -1, '信用分']\n",
    "        self.X_test = self.data.loc[self.data['信用分'] == -1, self.predictors]\n",
    "        self.y_test = self.data.loc[self.data['信用分'] == -1, '信用分']\n",
    "        \n",
    "    def split_train_test(self):\n",
    "        self.X_train, self.X_val, self.y_train, self.y_val = train_test_split(self.X_train_val, self.y_train_val, train_size = 0.7)\n",
    "        \n",
    "    def lgb_modeling(self):\n",
    "        # 2. modeling\n",
    "        # (1) create datasets for lightgbm\n",
    "        lgb_train = lgb.Dataset(self.X_train, self.y_train)\n",
    "        lgb_eval = lgb.Dataset(self.X_val, self.y_val, reference=lgb_train)\n",
    "\n",
    "        # (2) specify your configuration as a dict\n",
    "        params = {\n",
    "            'max_depth' : 4,\n",
    "            'boosting_type' : 'gbdt',\n",
    "            'objective' : 'regression_l1',\n",
    "            'num_leaves' : 31,\n",
    "            'metric' : {'l1', 'mae'},\n",
    "            'learning_rate' : 0.05,\n",
    "            'feature_fraction' : 0.9,\n",
    "            'bagging_fraction' : 0.8,\n",
    "            'bagging_freq' : 5,\n",
    "            'verbose' : 1\n",
    "        }\n",
    "\n",
    "        # (3) train & save\n",
    "        print(\"Starting training ...\")\n",
    "        gbm = lgb.train(params, lgb_train, num_boost_round=1000, valid_sets=lgb_eval, early_stopping_rounds=500, verbose_eval=0)\n",
    "        print(\"Saving Model ...\")\n",
    "        gbm.save_model('../model/lgb_model.txt')\n",
    "\n",
    "        # (4) predict\n",
    "        y_train_pre = gbm.predict(self.X_train, num_iteration=gbm.best_iteration)\n",
    "        y_val_pre = gbm.predict(self.X_val, num_iteration=gbm.best_iteration)\n",
    "\n",
    "        print(\"The Train MAE of prediction is: %s\" % mean_absolute_error(self.y_train, y_train_pre))\n",
    "        print(\"The Test MAE of prediction is: %s\" % mean_absolute_error(self.y_val, y_val_pre))\n",
    "        y_test_pre = gbm.predict(self.X_test)\n",
    "        \n",
    "        return self.y_val.values, y_val_pre\n",
    "    \n",
    "def case(file):\n",
    "    path = \"../data/all_data_fea%s.csv\" % file\n",
    "    r1 = model_lgb(path)\n",
    "    r1.get_train_val()\n",
    "    r1.split_train_test()\n",
    "    return r1.lgb_modeling()\n",
    "    \n",
    "\n",
    "def stacking_linear():\n",
    "    y_val_ave, y_val_pre_ave = 0.0, 0.0\n",
    "    weights = [.55,.2,.2,.05]\n",
    "    for no, file in enumerate([1,2,3,4]):\n",
    "        temp_y_val, temp_y_val_pre = case(file)    \n",
    "        y_val_ave += temp_y_val * weights[no]/4\n",
    "        y_val_pre_ave += temp_y_val_pre * weights[no]/4\n",
    "    print()\n",
    "    print(\"The Test MAE of prediction by Linear Stacking is: %s\" % mean_absolute_error(y_val_ave, y_val_pre_ave))  \n",
    "\n",
    "    return y_val_ave, y_val_pre_ave   "
   ]
  },
  {
   "cell_type": "code",
   "execution_count": 46,
   "metadata": {},
   "outputs": [
    {
     "name": "stderr",
     "output_type": "stream",
     "text": [
      "/home/wrj/anaconda3/lib/python3.6/site-packages/sklearn/model_selection/_split.py:2026: FutureWarning: From version 0.21, test_size will always complement train_size unless both are specified.\n",
      "  FutureWarning)\n"
     ]
    },
    {
     "name": "stdout",
     "output_type": "stream",
     "text": [
      "Starting training ...\n",
      "Saving Model ...\n",
      "The Train MAE of prediction is: 13.186372066853146\n",
      "The Test MAE of prediction is: 14.698851424284522\n"
     ]
    }
   ],
   "source": [
    "path = \"../data/all_data_fea4.csv\" \n",
    "r1 = model_lgb(path)\n",
    "r1.get_train_val()\n",
    "r1.split_train_test()\n",
    "y_val_ave, y_val_pre_ave = r1.lgb_modeling()"
   ]
  },
  {
   "cell_type": "code",
   "execution_count": 47,
   "metadata": {},
   "outputs": [
    {
     "name": "stderr",
     "output_type": "stream",
     "text": [
      "/home/wrj/anaconda3/lib/python3.6/site-packages/sklearn/model_selection/_split.py:2026: FutureWarning: From version 0.21, test_size will always complement train_size unless both are specified.\n",
      "  FutureWarning)\n"
     ]
    },
    {
     "name": "stdout",
     "output_type": "stream",
     "text": [
      "Starting training ...\n",
      "Saving Model ...\n",
      "The Train MAE of prediction is: 13.27721804895076\n",
      "The Test MAE of prediction is: 14.766324180098056\n",
      "Starting training ...\n",
      "Saving Model ...\n",
      "The Train MAE of prediction is: 13.325513749470767\n",
      "The Test MAE of prediction is: 14.665039355085192\n",
      "Starting training ...\n",
      "Saving Model ...\n",
      "The Train MAE of prediction is: 13.385056731980264\n",
      "The Test MAE of prediction is: 14.67741551021617\n",
      "Starting training ...\n",
      "Saving Model ...\n",
      "The Train MAE of prediction is: 13.19699260185436\n",
      "The Test MAE of prediction is: 14.836995472797213\n",
      "\n",
      "The Test MAE of prediction by Linear Stacking is: 2.3112380857350883\n"
     ]
    }
   ],
   "source": [
    "y_val_ave, y_val_pre_ave = stacking_linear()"
   ]
  },
  {
   "cell_type": "code",
   "execution_count": null,
   "metadata": {},
   "outputs": [],
   "source": []
  },
  {
   "cell_type": "code",
   "execution_count": null,
   "metadata": {},
   "outputs": [],
   "source": []
  }
 ],
 "metadata": {
  "kernelspec": {
   "display_name": "Python 3",
   "language": "python",
   "name": "python3"
  },
  "language_info": {
   "codemirror_mode": {
    "name": "ipython",
    "version": 3
   },
   "file_extension": ".py",
   "mimetype": "text/x-python",
   "name": "python",
   "nbconvert_exporter": "python",
   "pygments_lexer": "ipython3",
   "version": "3.6.5"
  }
 },
 "nbformat": 4,
 "nbformat_minor": 2
}
